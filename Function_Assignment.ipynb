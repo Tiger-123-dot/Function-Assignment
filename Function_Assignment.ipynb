{
  "nbformat": 4,
  "nbformat_minor": 0,
  "metadata": {
    "colab": {
      "provenance": []
    },
    "kernelspec": {
      "name": "python3",
      "display_name": "Python 3"
    },
    "language_info": {
      "name": "python"
    }
  },
  "cells": [
    {
      "cell_type": "markdown",
      "source": [
        "***Functions***"
      ],
      "metadata": {
        "id": "9MvxLPPPrX9b"
      }
    },
    {
      "cell_type": "markdown",
      "source": [
        "*1. What is the difference between a function and a method in python?*\n",
        "\n",
        "        In Python, functions and methods are both blocks of reusable code that perform a specific task, but they differ in where and how they are used.\n",
        "\n",
        "        A function is defined using the def keyword (or lambda for anonymous functions).\n",
        "\n",
        "        A method is a function that is associated with an object (i.e., it is part of a class)."
      ],
      "metadata": {
        "id": "tZVefFWJnU0d"
      }
    },
    {
      "cell_type": "markdown",
      "source": [
        "*2. Explain the concept of function arguments and parameters in python.*\n",
        "\n",
        "        In Python, function arguments and parameters are closely related but not quite the same:\n",
        "\n",
        "        Parameters are the names listed in a function's definition.\n",
        "        They act as placeholders for the values (arguments) that will be passed when the function is called.\n",
        "\n",
        "        Arguments are the actual values passed to a function when it is called.\n",
        "        They are assigned to the corresponding parameters."
      ],
      "metadata": {
        "id": "eL8vnkg7ndlh"
      }
    },
    {
      "cell_type": "markdown",
      "source": [
        "*3. What are the different ways to define and call a function in python?*\n",
        "\n",
        "        In Python, functions can be defined and called in several ways depending on your needs. Here's a breakdown of the different ways to define and call a function:"
      ],
      "metadata": {
        "id": "FMBu-_0BnkNA"
      }
    },
    {
      "cell_type": "markdown",
      "source": [
        "*4. What is the purpose of the 'return' statement in a python function?*\n",
        "\n",
        "        The return statement in a Python function serves the key purpose of sending back a result (or multiple results) to the caller of the function. It ends the function’s execution and optionally passes data back to wherever the function was called."
      ],
      "metadata": {
        "id": "p_EEeugSnu8t"
      }
    },
    {
      "cell_type": "markdown",
      "source": [
        "*5. What are iterators in python and how do they differ from iterables?*\n",
        "\n",
        "        In Python, iterators and iterables are closely related concepts used for looping, but they serve different roles.\n",
        "\n",
        "        Iterable:- Any object that can return an iterator.\n",
        "\n",
        "        Iterator:- An object that remembers where it is during iteration."
      ],
      "metadata": {
        "id": "ojgv23bhn0EF"
      }
    },
    {
      "cell_type": "markdown",
      "source": [
        "*6. Explain the concept of generators in python and how they are defined.*\n",
        "\n",
        "        A generator is a special kind of iterator that yields values one at a time, only when requested, without storing the entire sequence in memory.\n",
        "\n",
        "        Generators are ideal for large datasets or infinite sequences, where using a list would be inefficient or impossible."
      ],
      "metadata": {
        "id": "MW9yiJoBn4Bw"
      }
    },
    {
      "cell_type": "markdown",
      "source": [
        "*7.What are the advantages of using generators over regular functions?*\n",
        "\n",
        "        Using generators in Python offers several powerful advantages over regular functions (especially those that return large data structures like lists)."
      ],
      "metadata": {
        "id": "56p7J1UroGRR"
      }
    },
    {
      "cell_type": "markdown",
      "source": [
        "*8. What is a lambda function in python and when is it typically used?*\n",
        "\n",
        "        A lambda function in Python is a small, anonymous (unnamed) function defined using the lambda keyword. It's often used for short, simple operations where defining a full function with def would be unnecessary or overly verbose."
      ],
      "metadata": {
        "id": "GIGPM4UdoQzv"
      }
    },
    {
      "cell_type": "markdown",
      "source": [
        "*9.Explain the purpose and usage of the 'map()' functions in python?*\n",
        "\n",
        "        The map() function in Python is used to apply a function to every item in an iterable (like a list, tuple, etc.) and returns a map object (an iterator) with the results."
      ],
      "metadata": {
        "id": "n6Phbf1Tonvc"
      }
    },
    {
      "cell_type": "markdown",
      "source": [
        "*10. What is the difference between 'map()','reduce()' and 'filter()' function in python?*\n",
        "\n",
        "        map(), filter(), and reduce() are all higher-order functions in Python that allow for functional-style programming — processing data in a clean, declarative way.\n",
        "\n",
        "        They operate on iterables (like lists or tuples) and apply a function in different ways."
      ],
      "metadata": {
        "id": "pHDQnvdco1XC"
      }
    },
    {
      "cell_type": "markdown",
      "source": [
        "*11.Using pen & paper write the internal mechnism for sum operation using reduce function on this given list: [47,11,42,13];*"
      ],
      "metadata": {
        "id": "ItxWanRWpDvJ"
      }
    },
    {
      "cell_type": "code",
      "source": [
        "from functools import reduce\n",
        "result = reduce(lambda x, y: x + y, [47, 11, 42, 13])\n"
      ],
      "metadata": {
        "id": "QVmUJkqSvNgi"
      },
      "execution_count": 14,
      "outputs": []
    },
    {
      "cell_type": "code",
      "source": [
        "#1. Write a python function that takes a list of numbers are input and returns the sum of all even number in the list.\n",
        "def sum_even_numbers(numbers):\n",
        "    total = 0\n",
        "    for num in numbers:\n",
        "        if num % 2 == 0:\n",
        "            total += num\n",
        "    return total\n",
        "\n",
        "nums = [10, 15, 22, 33, 40]\n",
        "print(sum_even_numbers(nums))"
      ],
      "metadata": {
        "id": "SwVDgp-RpQ7c",
        "colab": {
          "base_uri": "https://localhost:8080/"
        },
        "outputId": "f27f23d3-40b0-4d9d-cf4d-21e69f194db6"
      },
      "execution_count": 20,
      "outputs": [
        {
          "output_type": "stream",
          "name": "stdout",
          "text": [
            "72\n"
          ]
        }
      ]
    },
    {
      "cell_type": "code",
      "source": [
        "#2.Create a python function that accept a string and return the reverse of that string.\n",
        "def reverse_string(s):\n",
        "    return s[::-1]\n",
        "print(reverse_string(\"hello\"))\n",
        "print(reverse_string(\"Python\"))"
      ],
      "metadata": {
        "id": "TuTCjZfWpYpR",
        "colab": {
          "base_uri": "https://localhost:8080/"
        },
        "outputId": "8169588a-17cd-4305-e1d6-292760aa1130"
      },
      "execution_count": 21,
      "outputs": [
        {
          "output_type": "stream",
          "name": "stdout",
          "text": [
            "olleh\n",
            "nohtyP\n"
          ]
        }
      ]
    },
    {
      "cell_type": "code",
      "source": [
        "#3.Implement a python function that takes a list of integers and return a new list containing the squares of each number.\n",
        "def square_numbers(numbers):\n",
        "    return [x ** 2 for x in numbers]\n",
        "nums = [1, 2, 3, 4]\n",
        "print(square_numbers(nums))"
      ],
      "metadata": {
        "id": "DNqVL7N6peN3",
        "colab": {
          "base_uri": "https://localhost:8080/"
        },
        "outputId": "bd213965-db79-4932-ed26-e83ab71a3aa8"
      },
      "execution_count": 22,
      "outputs": [
        {
          "output_type": "stream",
          "name": "stdout",
          "text": [
            "[1, 4, 9, 16]\n"
          ]
        }
      ]
    },
    {
      "cell_type": "code",
      "source": [
        "#4.Write a python function that checks if a given number is prime or not from 1 to 200.\n",
        "def is_prime(n):\n",
        "    if n <= 1:\n",
        "        return False\n",
        "    if n == 2:\n",
        "        return True\n",
        "    if n % 2 == 0:\n",
        "        return False\n",
        "    for i in range(3, int(n**0.5) + 1, 2):\n",
        "        if n % i == 0:\n",
        "            return False\n",
        "    return True\n",
        "\n",
        "for num in range(1, 201):\n",
        "  if is_prime(num):\n",
        "      print(num, \"is prime\")"
      ],
      "metadata": {
        "id": "OEDPcRPjpoVN",
        "colab": {
          "base_uri": "https://localhost:8080/"
        },
        "outputId": "8cb898b0-334b-4031-e7c8-7df684c6b6e9"
      },
      "execution_count": 24,
      "outputs": [
        {
          "output_type": "stream",
          "name": "stdout",
          "text": [
            "2 is prime\n",
            "3 is prime\n",
            "5 is prime\n",
            "7 is prime\n",
            "11 is prime\n",
            "13 is prime\n",
            "17 is prime\n",
            "19 is prime\n",
            "23 is prime\n",
            "29 is prime\n",
            "31 is prime\n",
            "37 is prime\n",
            "41 is prime\n",
            "43 is prime\n",
            "47 is prime\n",
            "53 is prime\n",
            "59 is prime\n",
            "61 is prime\n",
            "67 is prime\n",
            "71 is prime\n",
            "73 is prime\n",
            "79 is prime\n",
            "83 is prime\n",
            "89 is prime\n",
            "97 is prime\n",
            "101 is prime\n",
            "103 is prime\n",
            "107 is prime\n",
            "109 is prime\n",
            "113 is prime\n",
            "127 is prime\n",
            "131 is prime\n",
            "137 is prime\n",
            "139 is prime\n",
            "149 is prime\n",
            "151 is prime\n",
            "157 is prime\n",
            "163 is prime\n",
            "167 is prime\n",
            "173 is prime\n",
            "179 is prime\n",
            "181 is prime\n",
            "191 is prime\n",
            "193 is prime\n",
            "197 is prime\n",
            "199 is prime\n"
          ]
        }
      ]
    },
    {
      "cell_type": "code",
      "source": [
        "#5.Create an iterator class in python that generates the Fibonacci sequence up to a specified number of terms\n",
        "class FibonacciIterator:\n",
        "    def __init__(self, n_terms):\n",
        "        self.n_terms = n_terms\n",
        "        self.index = 0\n",
        "        self.a, self.b = 0, 1  # Starting values of the Fibonacci sequence\n",
        "\n",
        "    def __iter__(self):\n",
        "        return self\n",
        "\n",
        "    def __next__(self):\n",
        "        if self.index >= self.n_terms:\n",
        "            raise StopIteration\n",
        "        if self.index == 0:\n",
        "            self.index += 1\n",
        "            return 0\n",
        "        elif self.index == 1:\n",
        "            self.index += 1\n",
        "            return 1\n",
        "        else:\n",
        "            self.a, self.b = self.b, self.a + self.b\n",
        "            self.index += 1\n",
        "            return self.a\n",
        "fib = FibonacciIterator(10)\n",
        "for num in fib:\n",
        "    print(num)"
      ],
      "metadata": {
        "id": "X2D1WLbpptoV",
        "colab": {
          "base_uri": "https://localhost:8080/"
        },
        "outputId": "bbb2bab3-2b8b-490b-d315-b2097362fdf0"
      },
      "execution_count": 26,
      "outputs": [
        {
          "output_type": "stream",
          "name": "stdout",
          "text": [
            "0\n",
            "1\n",
            "1\n",
            "1\n",
            "2\n",
            "3\n",
            "5\n",
            "8\n",
            "13\n",
            "21\n"
          ]
        }
      ]
    },
    {
      "cell_type": "code",
      "source": [
        "#6.Write a generator function in python that yields the powers of 2 up to a given exponent.\n",
        "def powers_of_two(n):\n",
        "    for exponent in range(n + 1):\n",
        "        yield 2 ** exponent\n",
        "for value in powers_of_two(5):\n",
        "    print(value)"
      ],
      "metadata": {
        "id": "rvupycV8p2Nw",
        "colab": {
          "base_uri": "https://localhost:8080/"
        },
        "outputId": "81653263-4554-4275-ee22-93a0788be157"
      },
      "execution_count": 27,
      "outputs": [
        {
          "output_type": "stream",
          "name": "stdout",
          "text": [
            "1\n",
            "2\n",
            "4\n",
            "8\n",
            "16\n",
            "32\n"
          ]
        }
      ]
    },
    {
      "cell_type": "code",
      "source": [
        "#7.Implement a generator function that reads a file line by line and yields each line as a string.\n",
        "def read_file_line_by_line(file_path):\n",
        "  with open(file_path,'r') as file:\n",
        "    for line in file:\n",
        "            yield line.rstrip('\\n')\n",
        "\n",
        "for line in read_file_line_by_line('example.txt'):\n",
        "    print(line)"
      ],
      "metadata": {
        "id": "MEw5LVZUp8Js",
        "colab": {
          "base_uri": "https://localhost:8080/",
          "height": 211
        },
        "outputId": "ceaf810e-876c-4f72-aea7-916175bbbec8"
      },
      "execution_count": 35,
      "outputs": [
        {
          "output_type": "error",
          "ename": "NameError",
          "evalue": "name 'example' is not defined",
          "traceback": [
            "\u001b[0;31m---------------------------------------------------------------------------\u001b[0m",
            "\u001b[0;31mNameError\u001b[0m                                 Traceback (most recent call last)",
            "\u001b[0;32m/tmp/ipython-input-35-2201553913.py\u001b[0m in \u001b[0;36m<cell line: 0>\u001b[0;34m()\u001b[0m\n\u001b[1;32m      4\u001b[0m     \u001b[0;32mfor\u001b[0m \u001b[0mline\u001b[0m \u001b[0;32min\u001b[0m \u001b[0mfile\u001b[0m\u001b[0;34m:\u001b[0m\u001b[0;34m\u001b[0m\u001b[0;34m\u001b[0m\u001b[0m\n\u001b[1;32m      5\u001b[0m             \u001b[0;32myield\u001b[0m \u001b[0mline\u001b[0m\u001b[0;34m.\u001b[0m\u001b[0mrstrip\u001b[0m\u001b[0;34m(\u001b[0m\u001b[0;34m'\\n'\u001b[0m\u001b[0;34m)\u001b[0m\u001b[0;34m\u001b[0m\u001b[0;34m\u001b[0m\u001b[0m\n\u001b[0;32m----> 6\u001b[0;31m \u001b[0mexample\u001b[0m\u001b[0;34m.\u001b[0m\u001b[0mtxt\u001b[0m \u001b[0;34m=\u001b[0m \u001b[0;34m{\u001b[0m\u001b[0;36m1\u001b[0m\u001b[0;34m,\u001b[0m\u001b[0;36m2\u001b[0m\u001b[0;34m,\u001b[0m\u001b[0;34m\"String\"\u001b[0m\u001b[0;34m,\u001b[0m \u001b[0;34m\"Pwskills\"\u001b[0m\u001b[0;34m}\u001b[0m\u001b[0;34m\u001b[0m\u001b[0;34m\u001b[0m\u001b[0m\n\u001b[0m\u001b[1;32m      7\u001b[0m \u001b[0;32mfor\u001b[0m \u001b[0mline\u001b[0m \u001b[0;32min\u001b[0m \u001b[0mread_file_line_by_line\u001b[0m\u001b[0;34m(\u001b[0m\u001b[0;34m'example.txt'\u001b[0m\u001b[0;34m)\u001b[0m\u001b[0;34m:\u001b[0m\u001b[0;34m\u001b[0m\u001b[0;34m\u001b[0m\u001b[0m\n\u001b[1;32m      8\u001b[0m     \u001b[0mprint\u001b[0m\u001b[0;34m(\u001b[0m\u001b[0mline\u001b[0m\u001b[0;34m)\u001b[0m\u001b[0;34m\u001b[0m\u001b[0;34m\u001b[0m\u001b[0m\n",
            "\u001b[0;31mNameError\u001b[0m: name 'example' is not defined"
          ]
        }
      ]
    },
    {
      "cell_type": "code",
      "source": [
        "#8.Use a lambda function in python to sort a list of tuples based on the second element of each tuple.\n",
        "tuples_list = [(1, 3), (4, 1), (2, 5), (3, 2)]\n",
        "\n",
        "sorted_list = sorted(tuples_list, key=lambda x: x[1])\n",
        "\n",
        "print(sorted_list)"
      ],
      "metadata": {
        "id": "4RBCcXa9qDVN",
        "colab": {
          "base_uri": "https://localhost:8080/"
        },
        "outputId": "3031a012-7156-4dd0-906c-d6a1b6e68623"
      },
      "execution_count": 36,
      "outputs": [
        {
          "output_type": "stream",
          "name": "stdout",
          "text": [
            "[(4, 1), (3, 2), (1, 3), (2, 5)]\n"
          ]
        }
      ]
    },
    {
      "cell_type": "code",
      "source": [
        "#9.Write a python program that uses 'map()' to convert a list of temperatues from celsisus to fahrenheit.\n",
        "def celsius_to_fahrenheit(c):\n",
        "    return (c * 9/5) + 32\n",
        "\n",
        "celsius_temps = [0, 20, 37, 100]\n",
        "\n",
        "fahrenheit_temps = list(map(celsius_to_fahrenheit, celsius_temps))\n",
        "\n",
        "print(fahrenheit_temps)"
      ],
      "metadata": {
        "id": "PgaLLQV3qJ-D",
        "colab": {
          "base_uri": "https://localhost:8080/"
        },
        "outputId": "761612de-e056-4ddf-c2c4-5d9d2f3a0887"
      },
      "execution_count": 37,
      "outputs": [
        {
          "output_type": "stream",
          "name": "stdout",
          "text": [
            "[32.0, 68.0, 98.6, 212.0]\n"
          ]
        }
      ]
    },
    {
      "cell_type": "code",
      "source": [
        "#10.Create a python program that uses 'filter()' to remove all the vowels from a given string.\n",
        "def remove_vowels(s):\n",
        "    vowels = 'aeiouAEIOU'\n",
        "    return ''.join(filter(lambda char: char not in vowels, s))\n",
        "\n",
        "\n",
        "input_str = \"Hello, World!\"\n",
        "result = remove_vowels(input_str)\n",
        "print(result)  # Output: Hll, Wrld!"
      ],
      "metadata": {
        "id": "z-hooTZHqR4F",
        "colab": {
          "base_uri": "https://localhost:8080/"
        },
        "outputId": "864040f2-7d54-4894-950a-a1be4876050a"
      },
      "execution_count": 38,
      "outputs": [
        {
          "output_type": "stream",
          "name": "stdout",
          "text": [
            "Hll, Wrld!\n"
          ]
        }
      ]
    },
    {
      "cell_type": "code",
      "source": [
        "#11.Imagine an accounting routine used in a book shop. It works on a list with sublists, which look like this:\n",
        "\n"
      ],
      "metadata": {
        "id": "wInRMSDpqYTW"
      },
      "execution_count": null,
      "outputs": []
    },
    {
      "cell_type": "code",
      "source": [
        "#12.Write a python program, which return a list with 2-tuples. Each tuple consists of the order number and the product of the price per item and the quantity. The product should be increased by 10, - c. if the value of the order is smaller than 100,00\n",
        "\n",
        "orders = [\n",
        "    [1, 15.5, 3],   # order_number, price_per_item, quantity\n",
        "    [2, 45.0, 2],\n",
        "    [3, 20.0, 6],\n",
        "    [4, 10.0, 5]\n",
        "]\n",
        "\n",
        "\n",
        "def calculate_order_value(order):\n",
        "    order_num, price, qty = order\n",
        "    total = price * qty\n",
        "    if total < 100:\n",
        "        total += 10\n",
        "    return (order_num, total)\n",
        "\n",
        "orders = [\n",
        "    [1, 15.5, 3],\n",
        "    [2, 45.0, 2],\n",
        "    [3, 20.0, 6],\n",
        "    [4, 10.0, 5]\n",
        "]\n",
        "\n",
        "result = list(map(lambda order: calculate_order_value(order), orders))\n",
        "\n",
        "print(result)"
      ],
      "metadata": {
        "id": "j-0QIQXuquAE",
        "colab": {
          "base_uri": "https://localhost:8080/"
        },
        "outputId": "725e1df9-715e-4ec6-f561-7f9ddd3bef28"
      },
      "execution_count": 40,
      "outputs": [
        {
          "output_type": "stream",
          "name": "stdout",
          "text": [
            "[(1, 56.5), (2, 100.0), (3, 120.0), (4, 60.0)]\n"
          ]
        }
      ]
    },
    {
      "cell_type": "code",
      "source": [
        "#13. Write a python program using lambda and map.\n",
        "numbers = [1, 2, 3, 4, 5]\n",
        "\n",
        "doubled = list(map(lambda x: x * 2, numbers))\n",
        "\n",
        "print(doubled)"
      ],
      "metadata": {
        "id": "tO8LYP_VrEKP",
        "colab": {
          "base_uri": "https://localhost:8080/"
        },
        "outputId": "2454538f-a36b-4016-9485-e62627cfd411"
      },
      "execution_count": 39,
      "outputs": [
        {
          "output_type": "stream",
          "name": "stdout",
          "text": [
            "[2, 4, 6, 8, 10]\n"
          ]
        }
      ]
    }
  ]
}